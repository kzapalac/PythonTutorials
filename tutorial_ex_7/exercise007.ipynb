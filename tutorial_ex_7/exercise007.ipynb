{
 "cells": [
  {
   "cell_type": "markdown",
   "id": "be0de6b4",
   "metadata": {},
   "source": [
    "# Exercise 7"
   ]
  },
  {
   "cell_type": "markdown",
   "id": "49b6e404",
   "metadata": {},
   "source": [
    "## The situation"
   ]
  },
  {
   "cell_type": "markdown",
   "id": "c8e751bc",
   "metadata": {},
   "source": [
    "There is a virus sweeping the globe (Ha! Like that would ever happen! But let's pretend...). You have data on the mutation rates of 4 different strains of the virus (in mutations per generation x 10e-5). You need to determine if the 4 strains mutate at generally the same rate, and can thus be treated as one in epidemiological models, or if they are different enough that they must be modeled separately."
   ]
  },
  {
   "cell_type": "code",
   "execution_count": 2,
   "id": "16585801",
   "metadata": {},
   "outputs": [],
   "source": [
    "import numpy as np\n",
    "import pandas as pd\n",
    "import seaborn as sns\n",
    "import matplotlib.pyplot as plt"
   ]
  },
  {
   "cell_type": "code",
   "execution_count": 3,
   "id": "9f7eba53",
   "metadata": {},
   "outputs": [],
   "source": [
    "myData = pd.read_csv(\"datasets/007ExerciseFile.csv\")"
   ]
  },
  {
   "cell_type": "code",
   "execution_count": 4,
   "id": "88961b12",
   "metadata": {},
   "outputs": [
    {
     "data": {
      "text/html": [
       "<div>\n",
       "<style scoped>\n",
       "    .dataframe tbody tr th:only-of-type {\n",
       "        vertical-align: middle;\n",
       "    }\n",
       "\n",
       "    .dataframe tbody tr th {\n",
       "        vertical-align: top;\n",
       "    }\n",
       "\n",
       "    .dataframe thead th {\n",
       "        text-align: right;\n",
       "    }\n",
       "</style>\n",
       "<table border=\"1\" class=\"dataframe\">\n",
       "  <thead>\n",
       "    <tr style=\"text-align: right;\">\n",
       "      <th></th>\n",
       "      <th>Strain</th>\n",
       "      <th>Mutation_rate</th>\n",
       "    </tr>\n",
       "  </thead>\n",
       "  <tbody>\n",
       "    <tr>\n",
       "      <th>0</th>\n",
       "      <td>st_alpha</td>\n",
       "      <td>10.612005</td>\n",
       "    </tr>\n",
       "    <tr>\n",
       "      <th>1</th>\n",
       "      <td>st_alpha</td>\n",
       "      <td>12.586371</td>\n",
       "    </tr>\n",
       "    <tr>\n",
       "      <th>2</th>\n",
       "      <td>st_alpha</td>\n",
       "      <td>8.997583</td>\n",
       "    </tr>\n",
       "    <tr>\n",
       "      <th>3</th>\n",
       "      <td>st_alpha</td>\n",
       "      <td>11.681775</td>\n",
       "    </tr>\n",
       "    <tr>\n",
       "      <th>4</th>\n",
       "      <td>st_alpha</td>\n",
       "      <td>14.408237</td>\n",
       "    </tr>\n",
       "    <tr>\n",
       "      <th>...</th>\n",
       "      <td>...</td>\n",
       "      <td>...</td>\n",
       "    </tr>\n",
       "    <tr>\n",
       "      <th>163</th>\n",
       "      <td>st_delta</td>\n",
       "      <td>2.716249</td>\n",
       "    </tr>\n",
       "    <tr>\n",
       "      <th>164</th>\n",
       "      <td>st_delta</td>\n",
       "      <td>2.467378</td>\n",
       "    </tr>\n",
       "    <tr>\n",
       "      <th>165</th>\n",
       "      <td>st_delta</td>\n",
       "      <td>2.119801</td>\n",
       "    </tr>\n",
       "    <tr>\n",
       "      <th>166</th>\n",
       "      <td>st_delta</td>\n",
       "      <td>1.316537</td>\n",
       "    </tr>\n",
       "    <tr>\n",
       "      <th>167</th>\n",
       "      <td>st_delta</td>\n",
       "      <td>2.060472</td>\n",
       "    </tr>\n",
       "  </tbody>\n",
       "</table>\n",
       "<p>168 rows × 2 columns</p>\n",
       "</div>"
      ],
      "text/plain": [
       "       Strain  Mutation_rate\n",
       "0    st_alpha      10.612005\n",
       "1    st_alpha      12.586371\n",
       "2    st_alpha       8.997583\n",
       "3    st_alpha      11.681775\n",
       "4    st_alpha      14.408237\n",
       "..        ...            ...\n",
       "163  st_delta       2.716249\n",
       "164  st_delta       2.467378\n",
       "165  st_delta       2.119801\n",
       "166  st_delta       1.316537\n",
       "167  st_delta       2.060472\n",
       "\n",
       "[168 rows x 2 columns]"
      ]
     },
     "metadata": {},
     "output_type": "display_data"
    }
   ],
   "source": [
    "display(myData)"
   ]
  },
  {
   "cell_type": "markdown",
   "id": "4f051cca",
   "metadata": {},
   "source": [
    "### Histogram of the mutation rates of the 4 strains"
   ]
  },
  {
   "cell_type": "code",
   "execution_count": 15,
   "id": "66b7d89c",
   "metadata": {},
   "outputs": [
    {
     "data": {
      "text/plain": [
       "<seaborn.axisgrid.FacetGrid at 0x143927cab80>"
      ]
     },
     "execution_count": 15,
     "metadata": {},
     "output_type": "execute_result"
    },
    {
     "data": {
      "image/png": "[encoded data removed]",
      "text/plain": [
       "<Figure size 448x360 with 1 Axes>"
      ]
     },
     "metadata": {
      "needs_background": "light"
     },
     "output_type": "display_data"
    }
   ],
   "source": [
    "sns.displot(myData, x=\"Mutation_rate\", hue=\"Strain\", kind=\"hist\", alpha=0.3)"
   ]
  },
  {
   "cell_type": "markdown",
   "id": "75f31b1d",
   "metadata": {},
   "source": [
    "### KDE plot"
   ]
  },
  {
   "cell_type": "code",
   "execution_count": 17,
   "id": "23e9b064",
   "metadata": {},
   "outputs": [
    {
     "data": {
      "text/plain": [
       "<seaborn.axisgrid.FacetGrid at 0x14392bc2fd0>"
      ]
     },
     "execution_count": 17,
     "metadata": {},
     "output_type": "execute_result"
    },
    {
     "data": {
      "image/png": "[encoded data removed]",
      "text/plain": [
       "<Figure size 448x360 with 1 Axes>"
      ]
     },
     "metadata": {
      "needs_background": "light"
     },
     "output_type": "display_data"
    }
   ],
   "source": [
    "sns.displot(myData, x=\"Mutation_rate\", hue=\"Strain\", kind=\"kde\", fill=True, alpha=0.2)"
   ]
  },
  {
   "cell_type": "markdown",
   "id": "ce3ac3b4",
   "metadata": {},
   "source": [
    "### Violin plot"
   ]
  },
  {
   "cell_type": "code",
   "execution_count": 27,
   "id": "5cc22fae",
   "metadata": {},
   "outputs": [
    {
     "data": {
      "text/plain": [
       "<AxesSubplot:xlabel='Mutation_rate', ylabel='Strain'>"
      ]
     },
     "execution_count": 27,
     "metadata": {},
     "output_type": "execute_result"
    },
    {
     "data": {
      "image/png": "[encoded data removed]",
      "text/plain": [
       "<Figure size 432x288 with 1 Axes>"
      ]
     },
     "metadata": {
      "needs_background": "light"
     },
     "output_type": "display_data"
    }
   ],
   "source": [
    "sns.violinplot(data=myData, x=\"Mutation_rate\", y=\"Strain\")"
   ]
  },
  {
   "cell_type": "markdown",
   "id": "cf03ed3d",
   "metadata": {},
   "source": [
    "### Boxplot"
   ]
  },
  {
   "cell_type": "code",
   "execution_count": 28,
   "id": "1df6bb95",
   "metadata": {},
   "outputs": [
    {
     "data": {
      "text/plain": [
       "<AxesSubplot:xlabel='Mutation_rate', ylabel='Strain'>"
      ]
     },
     "execution_count": 28,
     "metadata": {},
     "output_type": "execute_result"
    },
    {
     "data": {
      "image/png": "[encoded data removed]",
      "text/plain": [
       "<Figure size 432x288 with 1 Axes>"
      ]
     },
     "metadata": {
      "needs_background": "light"
     },
     "output_type": "display_data"
    }
   ],
   "source": [
    "sns.boxplot(data=myData, x=\"Mutation_rate\", y=\"Strain\")"
   ]
  },
  {
   "cell_type": "markdown",
   "id": "cc72b395",
   "metadata": {},
   "source": [
    "### Boxplot with overlaid strip chart"
   ]
  },
  {
   "cell_type": "code",
   "execution_count": 48,
   "id": "4276ef0d",
   "metadata": {},
   "outputs": [
    {
     "data": {
      "text/plain": [
       "[Text(0, 0, 'Alpha'),\n",
       " Text(0, 1, 'Beta'),\n",
       " Text(0, 2, 'Gamma'),\n",
       " Text(0, 3, 'Delta')]"
      ]
     },
     "execution_count": 48,
     "metadata": {},
     "output_type": "execute_result"
    },
    {
     "data": {
      "image/png": "[encoded data removed]",
      "text/plain": [
       "<Figure size 432x288 with 1 Axes>"
      ]
     },
     "metadata": {
      "needs_background": "light"
     },
     "output_type": "display_data"
    }
   ],
   "source": [
    "plot = sns.boxplot(data=myData, x=\"Mutation_rate\", y=\"Strain\")\n",
    "sns.stripplot(data=myData, x=\"Mutation_rate\", y=\"Strain\", alpha=0.4)\n",
    "plot.set(xlabel=\"Mutation Rate\")\n",
    "plot.set_title(\"Mutation Rates of Virus Strains\")\n",
    "plot.set_yticklabels([\"Alpha\", \"Beta\", \"Gamma\", \"Delta\"])"
   ]
  },
  {
   "cell_type": "markdown",
   "id": "f3fd3e9a",
   "metadata": {},
   "source": [
    "### Summary statistics"
   ]
  },
  {
   "cell_type": "code",
   "execution_count": 22,
   "id": "bafa0b47",
   "metadata": {},
   "outputs": [
    {
     "data": {
      "text/html": [
       "<div>\n",
       "<style scoped>\n",
       "    .dataframe tbody tr th:only-of-type {\n",
       "        vertical-align: middle;\n",
       "    }\n",
       "\n",
       "    .dataframe tbody tr th {\n",
       "        vertical-align: top;\n",
       "    }\n",
       "\n",
       "    .dataframe thead tr th {\n",
       "        text-align: left;\n",
       "    }\n",
       "\n",
       "    .dataframe thead tr:last-of-type th {\n",
       "        text-align: right;\n",
       "    }\n",
       "</style>\n",
       "<table border=\"1\" class=\"dataframe\">\n",
       "  <thead>\n",
       "    <tr>\n",
       "      <th></th>\n",
       "      <th colspan=\"8\" halign=\"left\">Mutation_rate</th>\n",
       "    </tr>\n",
       "    <tr>\n",
       "      <th></th>\n",
       "      <th>count</th>\n",
       "      <th>mean</th>\n",
       "      <th>std</th>\n",
       "      <th>min</th>\n",
       "      <th>25%</th>\n",
       "      <th>50%</th>\n",
       "      <th>75%</th>\n",
       "      <th>max</th>\n",
       "    </tr>\n",
       "    <tr>\n",
       "      <th>Strain</th>\n",
       "      <th></th>\n",
       "      <th></th>\n",
       "      <th></th>\n",
       "      <th></th>\n",
       "      <th></th>\n",
       "      <th></th>\n",
       "      <th></th>\n",
       "      <th></th>\n",
       "    </tr>\n",
       "  </thead>\n",
       "  <tbody>\n",
       "    <tr>\n",
       "      <th>st_alpha</th>\n",
       "      <td>42.0</td>\n",
       "      <td>9.938535</td>\n",
       "      <td>1.563850</td>\n",
       "      <td>6.437518</td>\n",
       "      <td>8.884385</td>\n",
       "      <td>9.871964</td>\n",
       "      <td>10.926445</td>\n",
       "      <td>14.408237</td>\n",
       "    </tr>\n",
       "    <tr>\n",
       "      <th>st_beta</th>\n",
       "      <td>42.0</td>\n",
       "      <td>5.074079</td>\n",
       "      <td>1.089212</td>\n",
       "      <td>1.783542</td>\n",
       "      <td>4.591669</td>\n",
       "      <td>5.225036</td>\n",
       "      <td>5.824638</td>\n",
       "      <td>7.337440</td>\n",
       "    </tr>\n",
       "    <tr>\n",
       "      <th>st_delta</th>\n",
       "      <td>42.0</td>\n",
       "      <td>1.839395</td>\n",
       "      <td>0.508917</td>\n",
       "      <td>0.688354</td>\n",
       "      <td>1.513231</td>\n",
       "      <td>1.868183</td>\n",
       "      <td>2.180814</td>\n",
       "      <td>2.730632</td>\n",
       "    </tr>\n",
       "    <tr>\n",
       "      <th>st_gamma</th>\n",
       "      <td>42.0</td>\n",
       "      <td>0.974370</td>\n",
       "      <td>0.214968</td>\n",
       "      <td>0.577240</td>\n",
       "      <td>0.775191</td>\n",
       "      <td>0.962160</td>\n",
       "      <td>1.159783</td>\n",
       "      <td>1.510792</td>\n",
       "    </tr>\n",
       "  </tbody>\n",
       "</table>\n",
       "</div>"
      ],
      "text/plain": [
       "         Mutation_rate                                                    \\\n",
       "                 count      mean       std       min       25%       50%   \n",
       "Strain                                                                     \n",
       "st_alpha          42.0  9.938535  1.563850  6.437518  8.884385  9.871964   \n",
       "st_beta           42.0  5.074079  1.089212  1.783542  4.591669  5.225036   \n",
       "st_delta          42.0  1.839395  0.508917  0.688354  1.513231  1.868183   \n",
       "st_gamma          42.0  0.974370  0.214968  0.577240  0.775191  0.962160   \n",
       "\n",
       "                                \n",
       "                75%        max  \n",
       "Strain                          \n",
       "st_alpha  10.926445  14.408237  \n",
       "st_beta    5.824638   7.337440  \n",
       "st_delta   2.180814   2.730632  \n",
       "st_gamma   1.159783   1.510792  "
      ]
     },
     "execution_count": 22,
     "metadata": {},
     "output_type": "execute_result"
    }
   ],
   "source": [
    "myData.groupby(\"Strain\").describe()"
   ]
  },
  {
   "cell_type": "markdown",
   "id": "1d3672c3",
   "metadata": {},
   "source": [
    "### Boxplot to show Fauci"
   ]
  },
  {
   "cell_type": "code",
   "execution_count": 49,
   "id": "e5734e55",
   "metadata": {},
   "outputs": [
    {
     "data": {
      "text/plain": [
       "[Text(0, 0, 'Alpha'),\n",
       " Text(0, 1, 'Beta'),\n",
       " Text(0, 2, 'Gamma'),\n",
       " Text(0, 3, 'Delta')]"
      ]
     },
     "execution_count": 49,
     "metadata": {},
     "output_type": "execute_result"
    },
    {
     "data": {
      "image/png": "[encoded data removed]",
      "text/plain": [
       "<Figure size 432x288 with 1 Axes>"
      ]
     },
     "metadata": {
      "needs_background": "light"
     },
     "output_type": "display_data"
    }
   ],
   "source": [
    "plot = sns.boxplot(data=myData, x=\"Mutation_rate\", y=\"Strain\")\n",
    "sns.stripplot(data=myData, x=\"Mutation_rate\", y=\"Strain\", alpha=0.4)\n",
    "plot.set(xlabel=\"Mutation Rate\")\n",
    "plot.set_title(\"Mutation Rates of Virus Strains\")\n",
    "plot.set_yticklabels([\"Alpha\", \"Beta\", \"Gamma\", \"Delta\"])"
   ]
  },
  {
   "cell_type": "markdown",
   "id": "93255e8c",
   "metadata": {},
   "source": [
    "Each of the strains seems to mutate slightly different, so I would not recommend treating the strains as one epidemiological model. Looking at the boxplot above, the Alpha strain mutates the fastest. The Beta strain was the second fastest to mutate. Delta has the 3rd fastest mutation rate, and the Gamma strain has the slowest mutation. "
   ]
  }
 ],
 "metadata": {
  "kernelspec": {
   "display_name": "Python 3 (ipykernel)",
   "language": "python",
   "name": "python3"
  },
  "language_info": {
   "codemirror_mode": {
    "name": "ipython",
    "version": 3
   },
   "file_extension": ".py",
   "mimetype": "text/x-python",
   "name": "python",
   "nbconvert_exporter": "python",
   "pygments_lexer": "ipython3",
   "version": "3.9.7"
  }
 },
 "nbformat": 4,
 "nbformat_minor": 5
}
