{
 "cells": [
  {
   "cell_type": "markdown",
   "id": "8d5850ff",
   "metadata": {},
   "source": [
    "# In-class exercise for tutorial012\n",
    "# Loops!"
   ]
  },
  {
   "cell_type": "markdown",
   "id": "c5c44d24",
   "metadata": {},
   "source": [
    "## Introduction"
   ]
  },
  {
   "cell_type": "markdown",
   "id": "b40af479",
   "metadata": {},
   "source": [
    "All of what we think of as \"statistics\" is based upon repeating an experiment an infinite number of times. But rather than actually repeating the experiment, a bunch of calculus is used, plus assumptions to get the math to work. It may not seem obvious, but when we have been doing something as simple as compute the width of a sampling distribution from a set of data as *s/sqrt(n)*, what we are really saying is:\n",
    "\n",
    "\"If we were to do this experiment an infinite number of times and make a distribution of the means from all the experiments, it would be a normal distribution and have a standard deviation of s/sqrt(n). (And, by the way, this formula is based on a bunch of math that we will never actually do!)\""
   ]
  },
  {
   "cell_type": "markdown",
   "id": "0bd2fa3a",
   "metadata": {},
   "source": [
    "One of the most important breakthroughs in statistics and data science was the realization that, with the repetition of a few simple operations (using computers), we can actually simulate experiments a \"very large\" number of times. And while it's true that \"very large\" is less then infinite, by using computers to repeat experiments many many times (say tenths of thousands), we free ourselves of the assumptions that had to made in order to get the math underlying traditional statistics to work!"
   ]
  },
  {
   "cell_type": "markdown",
   "id": "d1f9027b",
   "metadata": {},
   "source": [
    "But how would we simulate repeating an experiment a number of times over in code?\n",
    "\n",
    "You guessed it... **with a `for` loop!**"
   ]
  },
  {
   "cell_type": "markdown",
   "id": "9d6eaa57",
   "metadata": {},
   "source": [
    "---"
   ]
  },
  {
   "cell_type": "markdown",
   "id": "0a2229ba",
   "metadata": {},
   "source": [
    "### Load the data set"
   ]
  },
  {
   "cell_type": "markdown",
   "id": "b83ffc9d",
   "metadata": {},
   "source": [
    "The data come from an online test of anxiety that – according to the sketchy website – was constructed such that the anxiety scores are **normally distributed** with a **mean of 50** and a **standard deviation of 10**."
   ]
  },
  {
   "cell_type": "markdown",
   "id": "08259b8c",
   "metadata": {},
   "source": [
    "Preliminaries of course..."
   ]
  },
  {
   "cell_type": "code",
   "execution_count": 9,
   "id": "08142350",
   "metadata": {},
   "outputs": [],
   "source": [
    "import numpy as np\n",
    "import seaborn as sns\n",
    "import matplotlib.pyplot as plt"
   ]
  },
  {
   "cell_type": "markdown",
   "id": "33a49ed3",
   "metadata": {},
   "source": [
    "Load the data file \"datasets/012_anxiety_data.npy\" (assuming you put the file in your \"datasets\" folder – otherwise adjust path as necessary. Reminder: `np.load()` is your friend!"
   ]
  },
  {
   "cell_type": "code",
   "execution_count": 26,
   "id": "10e2c144",
   "metadata": {},
   "outputs": [],
   "source": [
    "real_data = np.load('datasets/012_anxiety_data.npy')"
   ]
  },
  {
   "cell_type": "markdown",
   "id": "848ffab6",
   "metadata": {},
   "source": [
    "Now let's make sure we know our data set, `real_data`, well. Let's \n",
    "\n",
    "* look at a histogram\n",
    "* ditto with a kde\n",
    "* compute the mean, median and standard deviation\n",
    "* compute the standard error of the mean\n"
   ]
  },
  {
   "cell_type": "code",
   "execution_count": 41,
   "id": "18f3ecf6",
   "metadata": {},
   "outputs": [
    {
     "data": {
      "text/plain": [
       "Text(0.5, 1.0, 'Histogram of Real Anxiety Scores')"
      ]
     },
     "execution_count": 41,
     "metadata": {},
     "output_type": "execute_result"
    },
    {
     "data": {
      "image/png": "[encoded data removed]",
      "text/plain": [
       "<Figure size 432x288 with 1 Axes>"
      ]
     },
     "metadata": {
      "needs_background": "light"
     },
     "output_type": "display_data"
    }
   ],
   "source": [
    "# histogram\n",
    "sns.histplot(real_data)\n",
    "plt.xlabel('Anxiety Scores')\n",
    "plt.title('Histogram of Real Anxiety Scores')"
   ]
  },
  {
   "cell_type": "code",
   "execution_count": 12,
   "id": "a6a3b264",
   "metadata": {},
   "outputs": [
    {
     "data": {
      "text/plain": [
       "Text(0.5, 1.0, 'KDE Plot of Real Anxiety Scores')"
      ]
     },
     "execution_count": 12,
     "metadata": {},
     "output_type": "execute_result"
    },
    {
     "data": {
      "image/png": "[encoded data removed]",
      "text/plain": [
       "<Figure size 360x360 with 1 Axes>"
      ]
     },
     "metadata": {
      "needs_background": "light"
     },
     "output_type": "display_data"
    }
   ],
   "source": [
    "# kde\n",
    "sns.displot(real_data, kind='kde', fill=True)\n",
    "plt.xlabel('Anxiety Scores')\n",
    "plt.title('KDE Plot of Real Anxiety Scores')"
   ]
  },
  {
   "cell_type": "code",
   "execution_count": 30,
   "id": "4b73fbac",
   "metadata": {},
   "outputs": [
    {
     "name": "stdout",
     "output_type": "stream",
     "text": [
      "Mean= 60.971860226088445\n",
      "Median= 61.00404975776776\n",
      "Sd= 9.789934489177513\n"
     ]
    }
   ],
   "source": [
    "# mean, median and standard deviation\n",
    "myMean = np.mean(real_data)\n",
    "myMedian = np.median(real_data)\n",
    "mySd = np.std(real_data)\n",
    "\n",
    "print('Mean=',myMean)\n",
    "print('Median=',myMedian)\n",
    "print('Sd=',mySd)"
   ]
  },
  {
   "cell_type": "code",
   "execution_count": 31,
   "id": "43f9f03d",
   "metadata": {},
   "outputs": [
    {
     "name": "stdout",
     "output_type": "stream",
     "text": [
      "se= 0.9789934489177513\n"
     ]
    }
   ],
   "source": [
    "# standard error\n",
    "n = 100\n",
    "mySe = sd/n**0.5\n",
    "\n",
    "print('se=',mySe)"
   ]
  },
  {
   "cell_type": "markdown",
   "id": "20281012",
   "metadata": {},
   "source": [
    "---"
   ]
  },
  {
   "cell_type": "markdown",
   "id": "5e67c7c8",
   "metadata": {},
   "source": [
    "In a sentence or two of your own words, describe what the standard error of the mean is:"
   ]
  },
  {
   "cell_type": "markdown",
   "id": "c70e80bc",
   "metadata": {},
   "source": [
    "The standard error of the mean is the width of the sampling distribution."
   ]
  },
  {
   "cell_type": "markdown",
   "id": "9d74e3d3",
   "metadata": {},
   "source": [
    "---"
   ]
  },
  {
   "cell_type": "markdown",
   "id": "45042d71",
   "metadata": {},
   "source": [
    "### Simulate a bunch of experimental replications"
   ]
  },
  {
   "cell_type": "markdown",
   "id": "03044c01",
   "metadata": {},
   "source": [
    "Imagine, we wanted to simulate many many repeates of the same experiments. Fpr examp,e imagine that we wanted to appreciate the variability of the data obtained in the experiments, under certain conditions of noise and variability in the data. \n",
    "\n",
    "How would we simulate a bunch of experiments? We obviously can't actually repeat the experiments in the real world. But, as data scientists, we do have a couple of options, both of which we can implement with `for` loops!"
   ]
  },
  {
   "cell_type": "markdown",
   "id": "0adb4873",
   "metadata": {},
   "source": [
    "#### Monte Carlo Simulation"
   ]
  },
  {
   "cell_type": "markdown",
   "id": "50b8819d",
   "metadata": {},
   "source": [
    "If we want to repeat the experment a bunch of times, let's consider what we know! We know that the website claims that:\n",
    "\n",
    "* the scores are normally distributed\n",
    "* they have a mean of 50\n",
    "* and a standard deviation of 10\n",
    "\n",
    "So we should be able to use `numpy.random.randn()` to generate numbers that meet the first critereon. Then we just have to scale the standard deviation up by 10 and set the mean to 50. Luckily, we know how to multiply (`*`) and add (`+`), respectively.\n",
    "\n",
    "So here's our mission: \n",
    "\n",
    "* write a `for` loop that repeats `n_replications = 2000` times\n",
    "* on each replication\n",
    "    - compute the mean of the simulated experiment\n",
    "    - store that mean in a `mc_means` numpy array\n",
    "* do a histogram of the means\n",
    "* make a kde also too\n",
    "* compute the mean and standard deviation of the 2000 means\n",
    "   - compare the \"mean o' means\" from your simulation with the data mean\n",
    "   - compare the \"standard deviation o' means\" with the standard error of the data"
   ]
  },
  {
   "cell_type": "markdown",
   "id": "e8de9320",
   "metadata": {},
   "source": [
    "The simulation via `for` loop:"
   ]
  },
  {
   "cell_type": "code",
   "execution_count": 39,
   "id": "3d9b2b4a",
   "metadata": {},
   "outputs": [
    {
     "data": {
      "text/plain": [
       "array([[51.05437218],\n",
       "       [48.05584343],\n",
       "       [48.33883296],\n",
       "       ...,\n",
       "       [49.07865703],\n",
       "       [49.20222711],\n",
       "       [49.89744408]])"
      ]
     },
     "execution_count": 39,
     "metadata": {},
     "output_type": "execute_result"
    }
   ],
   "source": [
    "correct_mean = 50\n",
    "correct_sd = 10\n",
    "n_replications = 2000\n",
    "anxiety_scores_per_exp = 100\n",
    "mc_means = np.zeros((n_replications, 1))\n",
    "\n",
    "for i in range (n_replications) :\n",
    "    correct_anxiety_scores = correct_mean + correct_sd*np.random.randn(anxiety_scores_per_exp, 1) # creating a numpy array of 100 observations for 1 exp that center around 100 with a sd of 10\n",
    "    mc_means[i] = np.mean(correct_anxiety_scores)\n",
    "        \n",
    "mc_means"
   ]
  },
  {
   "cell_type": "markdown",
   "id": "cfd404f2",
   "metadata": {},
   "source": [
    "Histogram of the means:"
   ]
  },
  {
   "cell_type": "code",
   "execution_count": 43,
   "id": "87ead3a7",
   "metadata": {},
   "outputs": [
    {
     "data": {
      "text/plain": [
       "Text(0.5, 1.0, 'Histogram of Mean Anxiety Scores from Simulation')"
      ]
     },
     "execution_count": 43,
     "metadata": {},
     "output_type": "execute_result"
    },
    {
     "data": {
      "image/png": "[encoded data removed]",
      "text/plain": [
       "<Figure size 432x288 with 1 Axes>"
      ]
     },
     "metadata": {
      "needs_background": "light"
     },
     "output_type": "display_data"
    }
   ],
   "source": [
    "sns.histplot(mc_means)\n",
    "plt.xlabel = ('Mean Anxiety Scores')\n",
    "plt.title('Histogram of Mean Anxiety Scores from Simulation')"
   ]
  },
  {
   "cell_type": "markdown",
   "id": "eaacb22e",
   "metadata": {},
   "source": [
    "KDE of the means"
   ]
  },
  {
   "cell_type": "code",
   "execution_count": 83,
   "id": "15f08876",
   "metadata": {},
   "outputs": [
    {
     "data": {
      "text/plain": [
       "Text(0.5, 1.0, 'KDE Plot of Mean Anxiety Scores from Simulation')"
      ]
     },
     "execution_count": 83,
     "metadata": {},
     "output_type": "execute_result"
    },
    {
     "data": {
      "image/png": "[encoded data removed]",
      "text/plain": [
       "<Figure size 432x288 with 1 Axes>"
      ]
     },
     "metadata": {
      "needs_background": "light"
     },
     "output_type": "display_data"
    }
   ],
   "source": [
    "mykde = sns.kdeplot(x=mc_means[:,0], fill=True)\n",
    "mykde.set_xlabel = ('Mean Anxiety Scores')\n",
    "mykde.set_title('KDE Plot of Mean Anxiety Scores from Simulation')"
   ]
  },
  {
   "cell_type": "markdown",
   "id": "0cc6cd91",
   "metadata": {},
   "source": [
    "Compute the mean value of your simulation means:"
   ]
  },
  {
   "cell_type": "code",
   "execution_count": 48,
   "id": "cf0c918a",
   "metadata": {},
   "outputs": [
    {
     "name": "stdout",
     "output_type": "stream",
     "text": [
      "The mean value of the simulation means is 50.01158390319385\n"
     ]
    }
   ],
   "source": [
    "mc_means_mean = np.mean(mc_means)\n",
    "print('The mean value of the simulation means is', mc_means_mean)"
   ]
  },
  {
   "cell_type": "markdown",
   "id": "42c5b077",
   "metadata": {},
   "source": [
    "Compare it with the original data mean:"
   ]
  },
  {
   "cell_type": "markdown",
   "id": "9e0c8c7e",
   "metadata": {},
   "source": [
    "The mean value of my simulation means is 50.0 and range of the means from the simulation goes from about 46 to 54. However, the mean from the online data was 61.0, which is quite a bit higher than the expected mean of about 50."
   ]
  },
  {
   "cell_type": "markdown",
   "id": "af07ecfb",
   "metadata": {},
   "source": [
    "Compute the standard deviation of your simulation means:"
   ]
  },
  {
   "cell_type": "code",
   "execution_count": 49,
   "id": "1f610493",
   "metadata": {},
   "outputs": [
    {
     "name": "stdout",
     "output_type": "stream",
     "text": [
      "The standard deviation of the simulation means is 0.9983823605811377\n"
     ]
    }
   ],
   "source": [
    "mc_means_sd = np.std(mc_means)\n",
    "print('The standard deviation of the simulation means is', mc_means_sd)"
   ]
  },
  {
   "cell_type": "markdown",
   "id": "f4470b37",
   "metadata": {},
   "source": [
    "Compare it with the standard error you computed from the original data:"
   ]
  },
  {
   "cell_type": "code",
   "execution_count": 52,
   "id": "67b9e6e7",
   "metadata": {},
   "outputs": [
    {
     "name": "stdout",
     "output_type": "stream",
     "text": [
      "The standard error of the original data is 0.9789934489177513 whereas the standard deviation of the simulation means (which should be the same number) is 0.9983823605811377\n",
      "So these numbers are actually pretty similar, unlike the means\n"
     ]
    }
   ],
   "source": [
    "print('The standard error of the original data is', mySe, \n",
    "      'whereas the standard deviation of the simulation means (which should be the same number) is', mc_means_sd)\n",
    "print('So these numbers are actually pretty similar, unlike the means')"
   ]
  },
  {
   "cell_type": "markdown",
   "id": "2146f706",
   "metadata": {},
   "source": [
    "---"
   ]
  },
  {
   "cell_type": "markdown",
   "id": "19b2074f",
   "metadata": {},
   "source": [
    "##### Bonus (not required)\n",
    "If you knocked the above out with time to spare – congratulations – and let's think about this: you not only have the information given above as clues to the true state of the world. You also have:\n",
    "\n",
    "* the data themselves (or the histogram thereof that you made)\n",
    "* the actual mean of the original data\n",
    "* the actual standard deviation of the original data\n",
    "\n",
    "So rather than do a simulation based on the claimed mean of the sketchy website, you could base a new simulation on the data you actually have!\n",
    "\n",
    "Note that, if you wrote you code reasonably well above, you should only have to change the values of two variables to do this new simulation!\n",
    "\n",
    "Proceed!"
   ]
  },
  {
   "cell_type": "code",
   "execution_count": 53,
   "id": "cde039eb",
   "metadata": {},
   "outputs": [
    {
     "data": {
      "text/plain": [
       "array([[61.34638231],\n",
       "       [59.66651275],\n",
       "       [62.42074514],\n",
       "       ...,\n",
       "       [60.61538925],\n",
       "       [60.37243353],\n",
       "       [60.42279015]])"
      ]
     },
     "execution_count": 53,
     "metadata": {},
     "output_type": "execute_result"
    }
   ],
   "source": [
    "#creating a sampling distribution that is based on the mean and sd of the website data\n",
    "myMean #mean from the website data\n",
    "mySd #sd from the website data\n",
    "n_replications = 2000\n",
    "anxiety_scores_per_exp = 100\n",
    "website_means = np.zeros((n_replications, 1))\n",
    "\n",
    "for i in range (n_replications) :\n",
    "    correct_anxiety_scores = myMean + mySd*np.random.randn(anxiety_scores_per_exp, 1) # creating a numpy array of 100 observations for 1 exp that center around 100 with a sd of 10\n",
    "    website_means[i] = np.mean(correct_anxiety_scores)\n",
    "        \n",
    "website_means"
   ]
  },
  {
   "cell_type": "code",
   "execution_count": 66,
   "id": "d8eaf87b",
   "metadata": {},
   "outputs": [
    {
     "data": {
      "text/plain": [
       "(2000, 1)"
      ]
     },
     "execution_count": 66,
     "metadata": {},
     "output_type": "execute_result"
    }
   ],
   "source": [
    "website_means.shape"
   ]
  },
  {
   "cell_type": "code",
   "execution_count": 54,
   "id": "6a6eaf9b",
   "metadata": {},
   "outputs": [
    {
     "data": {
      "text/plain": [
       "Text(0.5, 1.0, 'Histogram of Mean Anxiety Scores from Website')"
      ]
     },
     "execution_count": 54,
     "metadata": {},
     "output_type": "execute_result"
    },
    {
     "data": {
      "image/png": "[encoded data removed]",
      "text/plain": [
       "<Figure size 432x288 with 1 Axes>"
      ]
     },
     "metadata": {
      "needs_background": "light"
     },
     "output_type": "display_data"
    }
   ],
   "source": [
    "sns.histplot(website_means)\n",
    "plt.xlabel = ('Mean Anxiety Scores')\n",
    "plt.title('Histogram of Mean Anxiety Scores from Website')"
   ]
  },
  {
   "cell_type": "code",
   "execution_count": 69,
   "id": "e023ba30",
   "metadata": {},
   "outputs": [
    {
     "data": {
      "text/plain": [
       "Text(0.5, 1.0, 'KDE Plot of Mean Anxiety Scores from Website')"
      ]
     },
     "execution_count": 69,
     "metadata": {},
     "output_type": "execute_result"
    },
    {
     "data": {
      "image/png": "[encoded data removed]",
      "text/plain": [
       "<Figure size 432x288 with 1 Axes>"
      ]
     },
     "metadata": {
      "needs_background": "light"
     },
     "output_type": "display_data"
    }
   ],
   "source": [
    "mykde = sns.kdeplot(x=website_means[:,0], fill=True)\n",
    "mykde.set_xlabel('Mean Anxiety Scores')\n",
    "mykde.set_title('KDE Plot of Mean Anxiety Scores from Website')"
   ]
  },
  {
   "cell_type": "code",
   "execution_count": 72,
   "id": "e734605e",
   "metadata": {},
   "outputs": [
    {
     "data": {
      "text/plain": [
       "array([[51.05437218, 61.34638231],\n",
       "       [48.05584343, 59.66651275],\n",
       "       [48.33883296, 62.42074514],\n",
       "       ...,\n",
       "       [49.07865703, 60.61538925],\n",
       "       [49.20222711, 60.37243353],\n",
       "       [49.89744408, 60.42279015]])"
      ]
     },
     "execution_count": 72,
     "metadata": {},
     "output_type": "execute_result"
    }
   ],
   "source": [
    "websitesVsSimulation = np.hstack((mc_means, website_means))\n",
    "websitesVsSimulation"
   ]
  },
  {
   "cell_type": "code",
   "execution_count": 79,
   "id": "258cddec",
   "metadata": {},
   "outputs": [
    {
     "data": {
      "text/plain": [
       "Text(0.5, 0, 'Mean Anxiety Scores')"
      ]
     },
     "execution_count": 79,
     "metadata": {},
     "output_type": "execute_result"
    },
    {
     "data": {
      "image/png": "[encoded data removed]",
      "text/plain": [
       "<Figure size 432x288 with 1 Axes>"
      ]
     },
     "metadata": {
      "needs_background": "light"
     },
     "output_type": "display_data"
    }
   ],
   "source": [
    "mykde = sns.kdeplot(x=mc_means[:,0], fill=True)\n",
    "mkkde = sns.kdeplot(x=website_means[:,0], fill=True)\n",
    "mykde.set_title('Original Simulation Means vs Website Simulation Means')\n",
    "mykde.set_xlabel('Mean Anxiety Scores')"
   ]
  }
 ],
 "metadata": {
  "kernelspec": {
   "display_name": "Python 3 (ipykernel)",
   "language": "python",
   "name": "python3"
  },
  "language_info": {
   "codemirror_mode": {
    "name": "ipython",
    "version": 3
   },
   "file_extension": ".py",
   "mimetype": "text/x-python",
   "name": "python",
   "nbconvert_exporter": "python",
   "pygments_lexer": "ipython3",
   "version": "3.9.7"
  }
 },
 "nbformat": 4,
 "nbformat_minor": 5
}
